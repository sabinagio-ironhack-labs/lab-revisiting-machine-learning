{
 "cells": [
  {
   "cell_type": "markdown",
   "metadata": {},
   "source": [
    "# Lab | Revisiting Machine Learning Case Study\n",
    "\n",
    "- In this lab, you will use `learningSet.csv` file which you already have cloned in today's activities. "
   ]
  },
  {
   "cell_type": "code",
   "execution_count": 1,
   "metadata": {},
   "outputs": [],
   "source": [
    "import pandas as pd\n",
    "import numpy as np\n",
    "import datetime\n",
    "import warnings\n",
    "import matplotlib.pyplot as plt\n",
    "import seaborn as sns\n",
    "\n",
    "warnings.filterwarnings('ignore')"
   ]
  },
  {
   "cell_type": "code",
   "execution_count": 3,
   "metadata": {},
   "outputs": [],
   "source": [
    "path = '/home/sabina/Downloads/Ironhack/Unit 7/7.01_lesson/learningSet.csv'\n",
    "data = pd.read_csv(path)"
   ]
  },
  {
   "cell_type": "markdown",
   "metadata": {},
   "source": [
    "### Instructions\n",
    "\n",
    "Complete the following steps on the categorical columns in the dataset:\n",
    "\n",
    "- Check for null values in all the columns"
   ]
  },
  {
   "cell_type": "code",
   "execution_count": 5,
   "metadata": {},
   "outputs": [
    {
     "data": {
      "text/plain": [
       "(95412, 481)"
      ]
     },
     "execution_count": 5,
     "metadata": {},
     "output_type": "execute_result"
    }
   ],
   "source": [
    "# We'll check the amount of data we have\n",
    "data.shape"
   ]
  },
  {
   "cell_type": "code",
   "execution_count": 9,
   "metadata": {},
   "outputs": [
    {
     "data": {
      "text/html": [
       "<div>\n",
       "<style scoped>\n",
       "    .dataframe tbody tr th:only-of-type {\n",
       "        vertical-align: middle;\n",
       "    }\n",
       "\n",
       "    .dataframe tbody tr th {\n",
       "        vertical-align: top;\n",
       "    }\n",
       "\n",
       "    .dataframe thead th {\n",
       "        text-align: right;\n",
       "    }\n",
       "</style>\n",
       "<table border=\"1\" class=\"dataframe\">\n",
       "  <thead>\n",
       "    <tr style=\"text-align: right;\">\n",
       "      <th></th>\n",
       "      <th>percentage</th>\n",
       "    </tr>\n",
       "  </thead>\n",
       "  <tbody>\n",
       "    <tr>\n",
       "      <th>RDATE_5</th>\n",
       "      <td>99.990567</td>\n",
       "    </tr>\n",
       "    <tr>\n",
       "      <th>RAMNT_5</th>\n",
       "      <td>99.990567</td>\n",
       "    </tr>\n",
       "    <tr>\n",
       "      <th>RDATE_3</th>\n",
       "      <td>99.746363</td>\n",
       "    </tr>\n",
       "    <tr>\n",
       "      <th>RAMNT_3</th>\n",
       "      <td>99.746363</td>\n",
       "    </tr>\n",
       "    <tr>\n",
       "      <th>RDATE_4</th>\n",
       "      <td>99.705488</td>\n",
       "    </tr>\n",
       "    <tr>\n",
       "      <th>...</th>\n",
       "      <td>...</td>\n",
       "    </tr>\n",
       "    <tr>\n",
       "      <th>ADATE_16</th>\n",
       "      <td>21.343227</td>\n",
       "    </tr>\n",
       "    <tr>\n",
       "      <th>ADATE_14</th>\n",
       "      <td>19.774242</td>\n",
       "    </tr>\n",
       "    <tr>\n",
       "      <th>ADATE_9</th>\n",
       "      <td>11.785729</td>\n",
       "    </tr>\n",
       "    <tr>\n",
       "      <th>ADATE_11</th>\n",
       "      <td>10.923154</td>\n",
       "    </tr>\n",
       "    <tr>\n",
       "      <th>NEXTDATE</th>\n",
       "      <td>10.452564</td>\n",
       "    </tr>\n",
       "  </tbody>\n",
       "</table>\n",
       "<p>80 rows × 1 columns</p>\n",
       "</div>"
      ],
      "text/plain": [
       "          percentage\n",
       "RDATE_5    99.990567\n",
       "RAMNT_5    99.990567\n",
       "RDATE_3    99.746363\n",
       "RAMNT_3    99.746363\n",
       "RDATE_4    99.705488\n",
       "...              ...\n",
       "ADATE_16   21.343227\n",
       "ADATE_14   19.774242\n",
       "ADATE_9    11.785729\n",
       "ADATE_11   10.923154\n",
       "NEXTDATE   10.452564\n",
       "\n",
       "[80 rows x 1 columns]"
      ]
     },
     "execution_count": 9,
     "metadata": {},
     "output_type": "execute_result"
    }
   ],
   "source": [
    "# Check nulls in columns\n",
    "nulls = pd.DataFrame(data.isna().sum() * 100 / len(data), columns=['percentage'])\n",
    "nulls.sort_values('percentage', ascending=False).head(80)"
   ]
  },
  {
   "cell_type": "code",
   "execution_count": 10,
   "metadata": {},
   "outputs": [
    {
     "data": {
      "text/plain": [
       "81"
      ]
     },
     "execution_count": 10,
     "metadata": {},
     "output_type": "execute_result"
    }
   ],
   "source": [
    "# Check how many columns have more than 10% null values\n",
    "len(nulls[nulls['percentage'] > 10])"
   ]
  },
  {
   "cell_type": "markdown",
   "metadata": {},
   "source": [
    "- Exclude the following variables by looking at the definitions. Create a new empty list called `drop_list`. We will append this list and then drop all the columns in this list later:\n",
    "    - `OSOURCE` - symbol definitions not provided, too many categories\n",
    "    - `ZIP CODE` - we are including state already"
   ]
  },
  {
   "cell_type": "code",
   "execution_count": 13,
   "metadata": {},
   "outputs": [
    {
     "data": {
      "text/plain": [
       "array(['GRI', 'BOA', 'AMH', 'BRY', ' ', 'CWR', 'DRK', 'NWN', 'LIS', 'MSD',\n",
       "       'AGR', 'CSM', 'ENQ', 'HCC', 'USB', 'FRC', 'RKB', 'PCH', 'AMB',\n",
       "       'L15', 'BBK', 'L21', 'SYN', 'L01', 'MOP', 'UCA', 'ESN', 'IMP',\n",
       "       'AVN', 'RMG', 'DNA', 'L04', 'AML', 'AIR', 'DUR', 'LHJ', 'WKB',\n",
       "       'STL', 'DCD', 'IMA', 'ACS', 'ALZ', 'NEX', 'HAR', 'SGI', 'MBC',\n",
       "       'BSH', 'NAD', 'HOS', 'HHL', 'GRT', 'L02', 'APP', 'DAC', 'BHG',\n",
       "       'NSH', 'NPT', 'L16', 'PV3', 'LOG', 'ASC', 'AGS', 'ARG', 'DON',\n",
       "       'VIK', 'ARB', 'HHH', 'ANT', 'WRG', 'PBL', 'OMH', 'CRG', 'UBA',\n",
       "       'ASH', 'COK', 'RPH', 'STV', 'NAS', 'SSS', 'LEO', 'KNG', 'KIP',\n",
       "       'ASS', 'GDA', 'STR', 'CAW', 'GET', 'HAN', 'DEL', 'FLD', 'L25',\n",
       "       'MER', 'SYC', 'HAM', 'PSM', 'HIL', 'SPN', 'DNB', 'GPS', 'ASP',\n",
       "       'INN', 'ABW', 'CFI', 'JFY', 'LAK', 'LVT', 'RED', 'TIM', 'MON',\n",
       "       'MM3', 'FAR', 'MTR', 'HOW', 'FOR', 'LKE', 'DBL', 'K3M', 'PGR',\n",
       "       'ADD', 'IML', 'SMZ', 'CNT', 'SUN', 'MCC', 'BEL', 'TVF', 'TRN',\n",
       "       'PCL', 'HRB', 'OVS', 'WFD', 'TX2', 'NWF', 'KEN', 'NSN', 'NEW',\n",
       "       'CJR', 'NHB', 'FCR', 'BSM', 'SIG', 'CHT', 'CAP', 'TVG', 'SUF',\n",
       "       'PRV', 'TRO', 'GUR', 'WIG', 'MAT', 'D02', 'GLP', 'HEA', 'BLI',\n",
       "       'EAS', 'SFH', 'PBK', 'TOR', 'HJR', 'MCO', 'IWD', 'HER', 'MB1',\n",
       "       'CHK', 'SHL', 'STA', 'EPL', 'WWC', 'AHC', 'TV1', 'CHS', 'GAR',\n",
       "       'MGR', 'OD1', 'SPG', 'ADM', 'L11', 'PWR', 'SRN', 'DSN', 'HFS',\n",
       "       'SMC', 'PGA', 'TPS', 'BED', 'CNC', 'L07', 'AKM', 'BAN', 'MBB',\n",
       "       'DDA', 'TVH', 'BRE', 'YAL', 'L23', 'ROA', 'MV2', 'NSM', 'VTM',\n",
       "       'BRK', 'QUI', 'L03', 'SEB', 'COH', 'STK', 'CMT', 'HHS', 'L22',\n",
       "       'DTM', 'CUL', 'HUT', 'EMI', 'MWD', 'LAN', 'SEP', 'IHD', 'ASE',\n",
       "       'HDP', 'HHB', 'CCP', 'LIF', 'NPP', 'ARM', 'SCP', 'ASK', 'BMG',\n",
       "       'DPH', 'AQK', 'PAR', 'CRN', 'AUS', 'SMM', 'DML', 'TVC', 'ARC',\n",
       "       'DTR', 'MAD', 'PHR', 'NG2', 'ADA', 'SES', 'RCS', 'MBT', 'AQU',\n",
       "       'QNT', 'COS', 'LPN', 'AMJ', 'TAS', 'FIN', 'DLG', 'SPR', 'UNV',\n",
       "       'IDM', 'MYO', 'MST', 'IDE', 'GPB', 'BTC', 'PLU', 'MIC', 'TX1',\n",
       "       'MDC', 'SEQ', 'NTW', 'MNT', 'MC1', 'MYS', 'GHS', 'GOD', 'SHM',\n",
       "       'SCO', 'YKA', 'PME', 'NAP', 'SMS', 'EP1', 'OUL', 'REF', 'L06',\n",
       "       'L0C', 'HMK', 'TYL', 'FIG', 'FOS', 'USS', 'SHE', 'DLM', 'OLY',\n",
       "       'MCF', 'COW', 'RAY', 'ACT', 'NSL', 'EHR', 'TLB', 'YKD', 'NYH',\n",
       "       'OXM', 'ANN', 'SH1', 'AHB', 'WLW', 'DHR', 'USA', 'NAM', 'MV1',\n",
       "       'OLD', 'GPD', 'RSC', 'MM2', 'NFB', 'HEL', 'TRU', 'DOW', 'OHI',\n",
       "       'DLL', 'NCD', 'KUR', 'PCC', 'ACG', 'LRS', 'PTP', 'CED', 'TRV',\n",
       "       'L0L', 'CRE', 'LCS', 'SMI', 'SFL', 'MM1', 'SYZ', 'WAL', 'SUM',\n",
       "       'PTS', 'AHL', 'GCP', 'GLN', 'MSE', 'INB', 'NWD', 'WAR', 'JUD',\n",
       "       'SPT', 'FLM', 'NOR', 'STE', 'SST', 'USU', 'FIV', 'HHV', 'DBD',\n",
       "       'BIB', 'MSB', 'ACC', 'ABC', 'SIM', 'FGM', 'HMP', 'LEE', 'DRH',\n",
       "       'ENC', 'PBW', 'VIG', 'THM', 'HCK', 'EPS', 'RBA', 'MIL', 'HSP',\n",
       "       'CRH', 'GSC', 'PUR', 'AMU', 'CNL', 'OHS', 'RPC', 'CFF', 'HVR',\n",
       "       'PUB', 'ACB', 'WIS', 'DWC', 'LEI', 'DAT', 'SWI', 'AP1', 'ASD',\n",
       "       'DNL', 'FCC', 'MLF', 'MAY', 'BHL', 'DBT', 'TRA', 'SSZ', 'MHM',\n",
       "       'PLN', 'SAT', 'ORG', 'FII', 'NES', 'NWL', 'CPB', 'WWF', 'ALD',\n",
       "       'BUY', 'EPI', 'HHC', 'GBK', 'ATS', 'SPC', 'AIC', 'HRM', 'ISL',\n",
       "       'AR1', 'SSL', 'VBK', 'JHO', 'MGU', 'YNF', 'TOG', 'GDF', 'TMX',\n",
       "       'ATP', 'NCC', 'HHN', 'SHU', 'SWP', 'VFW', 'JJG', 'MMK', 'ADR',\n",
       "       'HTL', 'VSH', 'BOS', 'MSH', 'FWF', 'L14', 'TOT', 'HLQ', 'WTW',\n",
       "       'AHA', 'MFL', 'AMT', 'EQM', 'DIA', 'CRT', 'WOR', 'LSH', 'CCI',\n",
       "       'FNC', 'NCS', 'CTH', 'LEM', 'TMT', 'TOD', 'NPW', 'DUN', 'FAM',\n",
       "       'ALF', 'ABD', 'CIO', 'SEX', 'THE', 'NGR', 'L09', 'RBM', 'BYL',\n",
       "       'TRI', 'LOB', 'TMW', 'BEE', 'WDY', 'RHM', 'AHR', 'WDH', 'PBY',\n",
       "       'SPM', 'FTH', 'HLN', 'NET', 'RLT', 'NDL', 'HAC', 'CYB', 'CBL',\n",
       "       'NER', 'CIR', 'MIQ', 'DAY', 'SNR', 'WMD', 'CHI', 'LIL', 'TWN',\n",
       "       'MWA', 'NWT', 'WBY', 'KNI', 'BFD', 'BBU', 'MTS', 'GEB', 'ROM',\n",
       "       'VAE', 'L13', 'JCD', 'USN', 'DRL', 'L17', 'KOR', 'AVD', 'PPM',\n",
       "       'MIS', 'SCA', 'TWM', 'CRP', 'NTC', 'HLA', 'OD2', 'DCK', 'SFW',\n",
       "       'STY', 'NHP', 'ALL', 'ABP', 'PNY', 'ATL', 'GFM', 'ARE', 'DMI',\n",
       "       'SCL', 'STJ', 'AHN', 'CMF', 'BBO', 'PHO', 'CAT', 'SOP', 'SLF',\n",
       "       'FRM', 'CLP', 'AUD', 'EAR', 'APL', 'BBT', 'PPD', 'AVS', 'GEN',\n",
       "       'JNC', 'AHM', 'CLL', 'CVO', 'HTG', 'CTW', 'BBW', 'SCU', 'IHS',\n",
       "       'WIL', 'BAR', 'NUR', 'LRD', 'CNA', 'SSN', 'WWM', 'COM', 'L24',\n",
       "       'BHW', 'HOR', 'PCA', 'FRN', 'SSC', 'RCW', 'BLV', 'VVM', 'MGV',\n",
       "       'NCH', 'FST', 'NSA', 'FHN', 'CRM', 'PAT', 'AEW', 'SUR', 'LEG',\n",
       "       'NNS', 'ZOY', 'MLK', 'FOP', 'TVM', 'USL', 'BML', 'NWP', 'NPL',\n",
       "       'OWN', 'EXP', 'PPL', 'SNW', 'BAS', 'YAN', 'VDB', 'GSP', 'DAN',\n",
       "       'COP', 'QEC', 'CSC', 'IFS', 'CSP', 'ALS', 'FDP', 'PSC', 'CPL',\n",
       "       'ESM', 'CRS', 'ELL', 'IRC', 'STP', 'AAD', 'MET', 'JLR', 'NYL',\n",
       "       'REG', 'MDB', 'WND', 'AMV', 'CCB', 'SEL', 'CUI', 'HMV', 'PBC',\n",
       "       'SDF', 'IMC', 'CAB', 'ICK', 'MLJ', 'JTB', 'SPH', 'NHR', 'FNH',\n",
       "       'KCP', 'HST', 'TLL', 'LST', 'TRE', 'ENT', 'VCS', 'AFP', 'PRO',\n",
       "       'PAL', 'POI', 'RVP', 'NCE', 'BTY', 'SH3', 'NON', 'ACP', 'HFH',\n",
       "       'TFS', 'SHK', 'POP', 'CGK', 'AMZ', 'BYB', 'AAA', 'HSC', 'WKC',\n",
       "       'EXS', 'CRL', 'RCH', 'KTB', 'PWD', 'BHB', 'JRV', 'ECK', 'COL',\n",
       "       'INM', 'WRK', 'CDC', 'RNM', 'MRB', 'SWM', 'LA2', 'CJL', 'RDM',\n",
       "       'CYR', 'SIW', 'SHP', 'BTR', 'HNZ', 'HPS', 'GFW', 'TRL', 'AMG',\n",
       "       'ISC', 'BLT', 'HOL', 'SJS', 'ARZ', 'BDG', 'POS', 'CKD', 'D01',\n",
       "       'AWK', 'FSC', 'OPR', 'NSS', 'SPI', 'MCN', 'PER', 'MBL', 'HSQ',\n",
       "       'CHW', 'FHL', 'CIL', 'USO', 'HCT', 'CVH', 'CRF', 'SMT', 'RNT',\n",
       "       'CON', 'FDM', 'PRA', 'TSH', 'LA1', 'FLA', 'GLD', 'MPL', 'LE2',\n",
       "       'SAZ', 'AMR', 'BUR', 'BEA', 'AHS', 'KIT', 'RNS', 'LON', 'MID',\n",
       "       'LED', 'CHB', 'EAL', 'GDM', 'REP', 'SUC', 'FIF', 'NHE', 'PAV',\n",
       "       'PRT', 'NG1', 'TAB', 'RSM', 'BMS', 'ACL', 'LEW', 'SSM', 'CKT',\n",
       "       'CCM', 'MWC', 'FPG', 'ROY', 'CSD', 'CMM', 'CNS', 'ERC', 'BET',\n",
       "       'GNC', 'HMM', 'POW', 'WCP', 'LEA', 'SH2', 'LWN', 'DEF', 'GAD',\n",
       "       'EPF', 'SOC', 'HSF', 'ACR', 'HCA', 'HHA', 'LUK', 'GFD', 'WER',\n",
       "       'SLS', 'ACN', 'CVP', 'ORT', 'VGL', 'ASB', 'HHD', 'HWB', 'NCF',\n",
       "       'TVP', 'AMS', 'SCT', 'SDP', 'BIR', 'STU', 'CHR', 'AKF', 'NCM',\n",
       "       'CMB', 'HPR', 'L20', 'HYP', 'IAP', 'PEN', 'DNC', 'IDL', 'BRP',\n",
       "       'AAM', 'WLD', 'CAM', 'NPA', 'UPP', 'COY', 'MGA', 'BKS', 'CMP',\n",
       "       'CHM', 'BRC', 'AME', 'INT', 'NRM', 'TRS', 'MDD', 'DEC', 'SUP',\n",
       "       'TMS', 'MFA', 'TCW', 'RRR', 'CTY', 'BCN', 'SAL', 'INC', 'CCS',\n",
       "       'ICR', 'PRE', 'AGF', 'UNI', 'GFT', 'NUM', 'MEN', 'JTA', 'WRT',\n",
       "       'SNU', 'EWK', 'AFR', 'SE1', 'MAS', 'VXW', 'CGS', 'PKS', 'FRA',\n",
       "       'FMK', 'MDA', 'MEC', 'UNQ', 'SEA', 'MYK', 'MSC', 'MSP', 'HRT',\n",
       "       'MRC', 'ANR', 'NPS', 'CDN', 'CCC', 'CYD', 'SIF', 'EAT', 'CHD',\n",
       "       'CMS', 'HSL', 'SEW', 'SSB', 'IAW', 'BLU', 'NSC', 'CAC', 'LHL',\n",
       "       'CWS', 'HUD', 'GRD', 'IBC', 'JAY', 'ACD', 'ARF', 'AI2', 'SOD',\n",
       "       'GHM', 'RMI', 'RNC', 'VIC'], dtype=object)"
      ]
     },
     "execution_count": 13,
     "metadata": {},
     "output_type": "execute_result"
    }
   ],
   "source": [
    "# Check OSOURCE values\n",
    "data.OSOURCE.unique()"
   ]
  },
  {
   "cell_type": "code",
   "execution_count": 14,
   "metadata": {},
   "outputs": [
    {
     "data": {
      "text/plain": [
       "896"
      ]
     },
     "execution_count": 14,
     "metadata": {},
     "output_type": "execute_result"
    }
   ],
   "source": [
    "# Check # of unique OSOURCE values\n",
    "len(data.OSOURCE.unique())"
   ]
  },
  {
   "cell_type": "code",
   "execution_count": 27,
   "metadata": {},
   "outputs": [],
   "source": [
    "# Prepare column drop list\n",
    "to_drop = ['OSOURCE', 'ZIP']"
   ]
  },
  {
   "cell_type": "markdown",
   "metadata": {},
   "source": [
    "- Identify columns that over 85% missing values"
   ]
  },
  {
   "cell_type": "code",
   "execution_count": 28,
   "metadata": {},
   "outputs": [],
   "source": [
    "null_cols = list(nulls[nulls['percentage'] > 10].index)\n",
    "to_drop += null_cols"
   ]
  },
  {
   "cell_type": "markdown",
   "metadata": {},
   "source": [
    "- Remove those columns from the dataframe"
   ]
  },
  {
   "cell_type": "code",
   "execution_count": 29,
   "metadata": {},
   "outputs": [],
   "source": [
    "model_data = data.drop(to_drop, axis=1)"
   ]
  },
  {
   "cell_type": "markdown",
   "metadata": {},
   "source": [
    "- Reduce the number of categories in the column `GENDER`. The column should only have either \"M\" for males, \"F\" for females, and \"other\" for all the rest\n",
    "    - Note that there are a few null values in the column. We will first replace those null values using the code below:\n",
    "\n",
    "    ```python\n",
    "    print(categorical['GENDER'].value_counts())\n",
    "    categorical['GENDER'] = categorical['GENDER'].fillna('F')\n",
    "    ```"
   ]
  },
  {
   "cell_type": "code",
   "execution_count": 30,
   "metadata": {},
   "outputs": [
    {
     "name": "stdout",
     "output_type": "stream",
     "text": [
      "F    51277\n",
      "M    39094\n",
      "      2957\n",
      "U     1715\n",
      "J      365\n",
      "C        2\n",
      "A        2\n",
      "Name: GENDER, dtype: int64\n"
     ]
    }
   ],
   "source": [
    "print(model_data['GENDER'].value_counts())\n",
    "model_data['GENDER'] = model_data['GENDER'].fillna('F')"
   ]
  },
  {
   "cell_type": "code",
   "execution_count": 34,
   "metadata": {},
   "outputs": [
    {
     "data": {
      "text/plain": [
       "F    51277\n",
       "M    39094\n",
       "U     5041\n",
       "Name: GENDER, dtype: int64"
      ]
     },
     "execution_count": 34,
     "metadata": {},
     "output_type": "execute_result"
    }
   ],
   "source": [
    "model_data.GENDER = model_data.GENDER.apply(lambda x: x if x == 'F' \\\n",
    "                                            or x == 'M' else \"U\")\n",
    "model_data.GENDER.value_counts()"
   ]
  }
 ],
 "metadata": {
  "interpreter": {
   "hash": "916dbcbb3f70747c44a77c7bcd40155683ae19c65e1c03b4aa3499c5328201f1"
  },
  "kernelspec": {
   "display_name": "Python 3.8.10 64-bit",
   "language": "python",
   "name": "python3"
  },
  "language_info": {
   "codemirror_mode": {
    "name": "ipython",
    "version": 3
   },
   "file_extension": ".py",
   "mimetype": "text/x-python",
   "name": "python",
   "nbconvert_exporter": "python",
   "pygments_lexer": "ipython3",
   "version": "3.8.10"
  },
  "orig_nbformat": 4
 },
 "nbformat": 4,
 "nbformat_minor": 2
}
